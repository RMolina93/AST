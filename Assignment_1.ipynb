{
 "cells": [
  {
   "cell_type": "markdown",
   "metadata": {},
   "source": [
    "## Advance Statistics\n",
    "### Basics of Python Programming and Combinatorics"
   ]
  },
  {
   "cell_type": "markdown",
   "metadata": {},
   "source": [
    "#### 1. Write a function that list all the possible outcomes with five dice.\n",
    "#### 2. Write a function that takes a number of dices and return all the possible outcomes for that amount of dices.\n",
    "\n",
    "I will generate a function that takes as input any number of dices, and therefore do both exercises at the same time."
   ]
  },
  {
   "cell_type": "code",
   "execution_count": null,
   "metadata": {},
   "outputs": [],
   "source": [
    "def roll_dices(n):\n",
    "    \"\"\"\n",
    "    This function takes n as the number of dices you want to throw, and return\n",
    "    all the possible combinations of the roll.\n",
    "    \"\"\"\n",
    "    dice = [1,2,3,4,5,6]\n",
    "    if n == 0:\n",
    "        return ['']\n",
    "    return [str(rolled) + str(new_roll) for rolled in roll_dices(n - 1) for new_roll in dice]"
   ]
  },
  {
   "cell_type": "code",
   "execution_count": null,
   "metadata": {},
   "outputs": [],
   "source": [
    "print (roll_dices(5))"
   ]
  },
  {
   "cell_type": "markdown",
   "metadata": {},
   "source": [
    "#### 3. Write functions that return, given five dice, True or False if we have Straight, Full, Poker or Generala."
   ]
  },
  {
   "cell_type": "code",
   "execution_count": 3,
   "metadata": {},
   "outputs": [],
   "source": [
    "def is_straight(roll):\n",
    "    \"\"\"\n",
    "    This function takes a list of integers as input, and return a boolean\n",
    "    indicating if the roll is straight\n",
    "    \"\"\"\n",
    "    return len(set(roll)) == len(roll)\n",
    "    \n",
    "def is_full(roll):\n",
    "    \"\"\"\n",
    "    This function takes a list of integers and input, and return a boolean\n",
    "    indicating whether the roll is a full\n",
    "    \"\"\"\n",
    "    values = set(roll)\n",
    "    if len(values) == 2:\n",
    "        if roll.count(roll[0]) in [2,3]:\n",
    "            return True\n",
    "    else:\n",
    "        return False\n",
    "        \n",
    "def is_poker(roll):\n",
    "    \"\"\"\n",
    "    This function takes a list of integers and input, and return a boolean\n",
    "    indicating whether the roll is a Poker\n",
    "    \"\"\"\n",
    "    values = set(roll)\n",
    "    if len(values) == 2:\n",
    "        if roll.count(roll[0]) in [4,1]:\n",
    "            return True\n",
    "    else:\n",
    "        return False\n",
    "       \n",
    "def is_generala(roll):\n",
    "    \"\"\"\n",
    "    This function takes a list of integers and input, and return a boolean\n",
    "    indicating whether the roll is a Generala\n",
    "    \"\"\"\n",
    "    return len(set(roll)) == 1"
   ]
  },
  {
   "cell_type": "code",
   "execution_count": null,
   "metadata": {},
   "outputs": [],
   "source": [
    "# CELL DESIGNED FOR TESTING\n",
    "\n",
    "straight = [1,2,3,4,5]\n",
    "full = [1,1,1,2,2]\n",
    "generala = [5,5,5,5,5]\n",
    "poker = [1,1,1,1,5]\n",
    "\n",
    "# TRUE CASES\n",
    "\n",
    "print(is_straight(straight))\n",
    "print(is_full(full))\n",
    "print(is_poker(poker))\n",
    "print(is_generala(generala))\n",
    "\n",
    "# FALSE CASES\n",
    "\n",
    "print(is_straight(poker))\n",
    "print(is_full(generala))\n",
    "print(is_poker(generala))\n",
    "print(is_generala(poker))\n"
   ]
  },
  {
   "cell_type": "markdown",
   "metadata": {},
   "source": [
    "#### 4. Compute the probabilities that you already computed by hand by counting the outcomes describing each roll result in the list of all possible hands served."
   ]
  },
  {
   "cell_type": "markdown",
   "metadata": {},
   "source": [
    "#### 5. Compute the probabilities that you already computed by hand by counting the outcomes describing each roll result in the list of all possible hands. "
   ]
  },
  {
   "cell_type": "markdown",
   "metadata": {},
   "source": [
    "#### 6. Write a function that simulate a roll with n fair dices."
   ]
  },
  {
   "cell_type": "code",
   "execution_count": 2,
   "metadata": {},
   "outputs": [],
   "source": [
    "import random \n",
    "\n",
    "def roll(n):\n",
    "    \"\"\"\n",
    "    This function takes as input a number n of dices, and returns the outcome of the roll\n",
    "    \"\"\"\n",
    "    roll = list()\n",
    "    for i in range(0,n):\n",
    "        roll.append(random.randint(1,6))\n",
    "    return roll"
   ]
  },
  {
   "cell_type": "code",
   "execution_count": null,
   "metadata": {},
   "outputs": [],
   "source": [
    "print(roll(5))"
   ]
  },
  {
   "cell_type": "markdown",
   "metadata": {},
   "source": [
    "#### 7. Write a function that plays automatically, always looking for a Generala with a greedy strategy (always keeping the most dices of the same kind and rolling the others) that returns True if we get a Generala and a False otherwise. \n",
    "#### Which kind of distribution follow this function results? Explain your reasoning within the delivered python notebook"
   ]
  },
  {
   "cell_type": "code",
   "execution_count": 26,
   "metadata": {},
   "outputs": [
    {
     "name": "stdout",
     "output_type": "stream",
     "text": [
      "The starting roll is: [6, 6, 2, 5, 5]\n",
      "The value we try to get is: 5\n",
      "Roll is not generala [6, 6, 2, 5, 5] \n",
      "Rolling remain dices.\n",
      "Values obtained from the re-roll are the next ones: [4, 1, 2]\n",
      "Roll is not generala [4, 1, 2] \n",
      "Rolling remain dices.\n",
      "Values obtained from the re-roll are the next ones: [5, 1, 3]\n",
      "Roll is not generala [5, 1, 3] \n",
      "Rolling remain dices.\n",
      "Values obtained from the re-roll are the next ones: [5, 2]\n",
      "Roll is not generala [5, 2] \n",
      "Rolling remain dices.\n",
      "Values obtained from the re-roll are the next ones: [6]\n",
      "Only one dice remain, result of re-roll is: 1\n",
      "Only one dice remain, result of re-roll is: 4\n",
      "Only one dice remain, result of re-roll is: 4\n",
      "Only one dice remain, result of re-roll is: 5\n",
      "Obtained value 5\n",
      "Is generala!\n"
     ]
    }
   ],
   "source": [
    "import random\n",
    "\n",
    "def most_frequent(List): \n",
    "    \"This function takes a List as input and returns you the most frequent value\"\n",
    "    return max(set(List), key = List.count)\n",
    "\n",
    "def play_generala(n):\n",
    "    result = roll(n)\n",
    "    print (\"The starting roll is:\", result)\n",
    "    while is_straight(result):\n",
    "        print (\"Roll is straight:\", roll, \"Re-rolling again.\")\n",
    "        result = roll(n)\n",
    "    most_freq = most_frequent(result)\n",
    "    print (\"The value we try to get is:\", most_freq)\n",
    "        \n",
    "    while not is_generala(result):\n",
    "        print (\"Roll is not generala\" , result, \"\\nRolling remain dices.\")\n",
    "        result = [random.randint(1,6) for item in result if item != most_freq]\n",
    "        print (\"Values obtained from the re-roll are the next ones:\", result)\n",
    "    \n",
    "    while len(result) == 1:\n",
    "        last_roll = random.randint(1,6)\n",
    "        print (\"Only one dice remain, result of re-roll is:\", last_roll)\n",
    "        if last_roll == most_freq:\n",
    "            print (\"Obtained value\", most_freq)\n",
    "            return (\"Is generala!\")\n",
    "    \n",
    "    print (\"Is generala!:\", result)    \n",
    "    \n",
    "print(play_generala(5))"
   ]
  },
  {
   "cell_type": "code",
   "execution_count": null,
   "metadata": {},
   "outputs": [],
   "source": []
  },
  {
   "cell_type": "code",
   "execution_count": null,
   "metadata": {},
   "outputs": [],
   "source": []
  }
 ],
 "metadata": {
  "kernelspec": {
   "display_name": "Python 3",
   "language": "python",
   "name": "python3"
  },
  "language_info": {
   "codemirror_mode": {
    "name": "ipython",
    "version": 3
   },
   "file_extension": ".py",
   "mimetype": "text/x-python",
   "name": "python",
   "nbconvert_exporter": "python",
   "pygments_lexer": "ipython3",
   "version": "3.7.3"
  }
 },
 "nbformat": 4,
 "nbformat_minor": 2
}
