{
 "cells": [
  {
   "cell_type": "markdown",
   "metadata": {},
   "source": [
    "## Advance Statistics\n",
    "### Basics of Python Programming and Combinatorics"
   ]
  },
  {
   "cell_type": "markdown",
   "metadata": {},
   "source": [
    "#### 1. Write a function that list all the possible outcomes with five dice.\n",
    "#### 2. Write a function that takes a number of dices and return all the possible outcomes for that amount of dices.\n",
    "\n",
    "I will generate a function that takes as input any number of dices, and therefore do both exercises at the same time."
   ]
  },
  {
   "cell_type": "code",
   "execution_count": 1,
   "metadata": {},
   "outputs": [],
   "source": [
    "def roll_dices(n):\n",
    "    \"\"\"\n",
    "    This function takes n as the number of dices you want to throw, and return\n",
    "    all the possible combinations of the roll.\n",
    "    \"\"\"\n",
    "    dice = [1,2,3,4,5,6]\n",
    "    if n == 0:\n",
    "        return ['']\n",
    "    return [str(rolled) + str(new_roll) for rolled in roll_dices(n - 1) for new_roll in dice]"
   ]
  },
  {
   "cell_type": "code",
   "execution_count": null,
   "metadata": {},
   "outputs": [],
   "source": [
    "print (roll_dices(5))"
   ]
  },
  {
   "cell_type": "markdown",
   "metadata": {},
   "source": [
    "#### 3. Write functions that return, given five dice, True or False if we have Straight, Full, Poker or Generala."
   ]
  },
  {
   "cell_type": "code",
   "execution_count": 2,
   "metadata": {},
   "outputs": [],
   "source": [
    "def is_straight(roll):\n",
    "    \"\"\"\n",
    "    This function takes a list of integers as input, and return a boolean\n",
    "    indicating if the roll is straight\n",
    "    \"\"\"\n",
    "    return len(set(roll)) == len(roll)\n",
    "    \n",
    "def is_full(roll):\n",
    "    \"\"\"\n",
    "    This function takes a list of integers and input, and return a boolean\n",
    "    indicating whether the roll is a full\n",
    "    \"\"\"\n",
    "    values = set(roll)\n",
    "    if len(values) == 2:\n",
    "        if roll.count(roll[0]) in [2,3]:\n",
    "            return True\n",
    "    else:\n",
    "        return False\n",
    "        \n",
    "def is_poker(roll):\n",
    "    \"\"\"\n",
    "    This function takes a list of integers and input, and return a boolean\n",
    "    indicating whether the roll is a Poker\n",
    "    \"\"\"\n",
    "    values = set(roll)\n",
    "    if len(values) == 2:\n",
    "        if roll.count(roll[0]) in [4,1]:\n",
    "            return True\n",
    "    else:\n",
    "        return False\n",
    "       \n",
    "def is_generala(roll):\n",
    "    \"\"\"\n",
    "    This function takes a list of integers and input, and return a boolean\n",
    "    indicating whether the roll is a Generala\n",
    "    \"\"\"\n",
    "    return len(set(roll)) == 1"
   ]
  },
  {
   "cell_type": "code",
   "execution_count": null,
   "metadata": {},
   "outputs": [],
   "source": [
    "# CELL DESIGNED FOR TESTING\n",
    "\n",
    "straight = [1,2,3,4,5]\n",
    "full = [1,1,1,2,2]\n",
    "generala = [5,5,5,5,5]\n",
    "poker = [1,1,1,1,5]\n",
    "\n",
    "# TRUE CASES\n",
    "\n",
    "print(is_straight(straight))\n",
    "print(is_full(full))\n",
    "print(is_poker(poker))\n",
    "print(is_generala(generala))\n",
    "\n",
    "# FALSE CASES\n",
    "\n",
    "print(is_straight(poker))\n",
    "print(is_full(generala))\n",
    "print(is_poker(generala))\n",
    "print(is_generala(poker))\n"
   ]
  },
  {
   "cell_type": "markdown",
   "metadata": {},
   "source": [
    "#### 4. Compute the probabilities that you already computed by hand by counting the outcomes describing each roll result in the list of all possible hands served."
   ]
  },
  {
   "cell_type": "code",
   "execution_count": null,
   "metadata": {},
   "outputs": [],
   "source": [
    "probabilities = 6/len(roll_dices(5))\n",
    "print (probabilities)"
   ]
  },
  {
   "cell_type": "markdown",
   "metadata": {},
   "source": [
    "#### 5. Compute the probabilities that you already computed by hand by counting the outcomes describing each roll result in the list of all possible hands. "
   ]
  },
  {
   "cell_type": "markdown",
   "metadata": {},
   "source": [
    "---------------------"
   ]
  },
  {
   "cell_type": "markdown",
   "metadata": {},
   "source": [
    "#### 6. Write a function that simulate a roll with n fair dices."
   ]
  },
  {
   "cell_type": "code",
   "execution_count": 3,
   "metadata": {},
   "outputs": [],
   "source": [
    "import random \n",
    "\n",
    "def roll(n):\n",
    "    \"\"\"\n",
    "    This function takes as input a number n of dices, and returns the outcome of the roll\n",
    "    \"\"\"\n",
    "    roll = list()\n",
    "    for i in range(0,n):\n",
    "        roll.append(random.randint(1,6))\n",
    "    return roll"
   ]
  },
  {
   "cell_type": "code",
   "execution_count": null,
   "metadata": {},
   "outputs": [],
   "source": [
    "print(roll(5))"
   ]
  },
  {
   "cell_type": "markdown",
   "metadata": {},
   "source": [
    "#### 7. Write a function that plays automatically, always looking for a Generala with a greedy strategy (always keeping the most dices of the same kind and rolling the others) that returns True if we get a Generala and a False otherwise. \n",
    "#### Which kind of distribution follow this function results? Explain your reasoning within the delivered python notebook"
   ]
  },
  {
   "cell_type": "code",
   "execution_count": 4,
   "metadata": {},
   "outputs": [
    {
     "data": {
      "text/plain": [
       "False"
      ]
     },
     "execution_count": 4,
     "metadata": {},
     "output_type": "execute_result"
    }
   ],
   "source": [
    "import random\n",
    "\n",
    "def most_frequent(List): \n",
    "    \"This function takes a List as input and returns you the most frequent value\"\n",
    "    return max(set(List), key = List.count)\n",
    "\n",
    "def play_generala(n):\n",
    "    \"\"\"\n",
    "    This function takes a number n of dices and plays until all the dices are the same value.\n",
    "    \"\"\"\n",
    "    result = roll(5)\n",
    "    #print (\"The starting roll is:\", result)\n",
    "    most_freq = most_frequent(result)\n",
    "    #print(\"We are aiming for\", most_freq)\n",
    "    \n",
    "    for _roll in range(0,2):\n",
    "        result = [random.randint(1,6) for item in result if item != most_freq]\n",
    "        #print (\"This roll is:\", result)\n",
    "        if result.count(most_freq) == len(result):\n",
    "            #print (\"Yay, generala!\")\n",
    "            return True\n",
    "    #print(\"Oh , no generala.\")\n",
    "    return False\n",
    "    \n",
    "play_generala(5)"
   ]
  },
  {
   "cell_type": "markdown",
   "metadata": {},
   "source": [
    "This function follows a geometric distribution, since its the distribution that represent the number of failures before you get a success in a series of Bernoulli trials."
   ]
  },
  {
   "cell_type": "markdown",
   "metadata": {},
   "source": [
    "#### 8. Write a function that plays until it gets a Generala, count how many times it had to play to get it and return this number. Which kind of distribution follow this function results? Explain your reasoning within the delivered python notebook."
   ]
  },
  {
   "cell_type": "code",
   "execution_count": 8,
   "metadata": {},
   "outputs": [],
   "source": [
    "def count_play_generala():\n",
    "    \"\"\"\n",
    "    This function takes a number n of dices and plays until all the dices are the same value.\n",
    "    Then it returns the time of number it had to roll the dices.\n",
    "    \"\"\"\n",
    "    counter = 1\n",
    "    success = play_generala(5)\n",
    "    while success is not True:\n",
    "        success = play_generala(5)\n",
    "        counter += 1\n",
    "    return counter\n",
    "    "
   ]
  },
  {
   "cell_type": "markdown",
   "metadata": {},
   "source": [
    "Now we need to repeat the function X times, and after that compute the Histogram of values."
   ]
  },
  {
   "cell_type": "code",
   "execution_count": 10,
   "metadata": {},
   "outputs": [
    {
     "data": {
      "text/plain": [
       "<matplotlib.axes._subplots.AxesSubplot at 0x7f529b675860>"
      ]
     },
     "execution_count": 10,
     "metadata": {},
     "output_type": "execute_result"
    },
    {
     "data": {
      "image/png": "[encoded data removed]",
      "text/plain": [
       "<Figure size 432x288 with 1 Axes>"
      ]
     },
     "metadata": {
      "needs_background": "light"
     },
     "output_type": "display_data"
    }
   ],
   "source": [
    "%matplotlib inline\n",
    "import seaborn as sns\n",
    "\n",
    "times_to_play = list()\n",
    "\n",
    "for _iteration in range(0,10000):\n",
    "    times_to_play.append(count_play_generala())\n",
    "    \n",
    "sns.distplot(times_to_play, kde=True)"
   ]
  },
  {
   "cell_type": "markdown",
   "metadata": {},
   "source": [
    "The model follows a log-normal distribution, because the logarithm of the value is normally distributed. This function is used when the values are higher than 0. Is related to the normal distribution, but for data that is deviated to the left."
   ]
  },
  {
   "cell_type": "code",
   "execution_count": null,
   "metadata": {},
   "outputs": [],
   "source": []
  }
 ],
 "metadata": {
  "kernelspec": {
   "display_name": "Python 3",
   "language": "python",
   "name": "python3"
  },
  "language_info": {
   "codemirror_mode": {
    "name": "ipython",
    "version": 3
   },
   "file_extension": ".py",
   "mimetype": "text/x-python",
   "name": "python",
   "nbconvert_exporter": "python",
   "pygments_lexer": "ipython3",
   "version": "3.7.3"
  }
 },
 "nbformat": 4,
 "nbformat_minor": 2
}
