{
 "cells": [
  {
   "cell_type": "code",
   "execution_count": 38,
   "metadata": {},
   "outputs": [],
   "source": [
    "import pandas as pd\n",
    "import numpy as np\n",
    "import scipy.stats as st"
   ]
  },
  {
   "cell_type": "markdown",
   "metadata": {},
   "source": [
    "#### Problem 1. ​Program a function that given a causal graph (in matrix form) computes the basis set of independences to be checked to assert if that graph is a feasible causal structure."
   ]
  },
  {
   "cell_type": "code",
   "execution_count": 32,
   "metadata": {},
   "outputs": [],
   "source": [
    "# Let's create a function that creates a random graph with number of variables = size\n",
    "\n",
    "def generate_random_graph(num_var):\n",
    "    data = pd.DataFrame(np.random.randint(0,2,size=(num_var, num_var)))\n",
    "    return data"
   ]
  },
  {
   "cell_type": "code",
   "execution_count": 20,
   "metadata": {},
   "outputs": [],
   "source": [
    "random_graph = generate_random_graph(7)\n",
    "data = generate_data(100,7)"
   ]
  },
  {
   "cell_type": "code",
   "execution_count": 21,
   "metadata": {},
   "outputs": [
    {
     "data": {
      "text/html": [
       "<div>\n",
       "<style scoped>\n",
       "    .dataframe tbody tr th:only-of-type {\n",
       "        vertical-align: middle;\n",
       "    }\n",
       "\n",
       "    .dataframe tbody tr th {\n",
       "        vertical-align: top;\n",
       "    }\n",
       "\n",
       "    .dataframe thead th {\n",
       "        text-align: right;\n",
       "    }\n",
       "</style>\n",
       "<table border=\"1\" class=\"dataframe\">\n",
       "  <thead>\n",
       "    <tr style=\"text-align: right;\">\n",
       "      <th></th>\n",
       "      <th>0</th>\n",
       "      <th>1</th>\n",
       "      <th>2</th>\n",
       "      <th>3</th>\n",
       "      <th>4</th>\n",
       "      <th>5</th>\n",
       "      <th>6</th>\n",
       "    </tr>\n",
       "  </thead>\n",
       "  <tbody>\n",
       "    <tr>\n",
       "      <th>0</th>\n",
       "      <td>1</td>\n",
       "      <td>1</td>\n",
       "      <td>1</td>\n",
       "      <td>0</td>\n",
       "      <td>1</td>\n",
       "      <td>0</td>\n",
       "      <td>0</td>\n",
       "    </tr>\n",
       "    <tr>\n",
       "      <th>1</th>\n",
       "      <td>1</td>\n",
       "      <td>0</td>\n",
       "      <td>1</td>\n",
       "      <td>1</td>\n",
       "      <td>0</td>\n",
       "      <td>0</td>\n",
       "      <td>0</td>\n",
       "    </tr>\n",
       "    <tr>\n",
       "      <th>2</th>\n",
       "      <td>0</td>\n",
       "      <td>0</td>\n",
       "      <td>1</td>\n",
       "      <td>1</td>\n",
       "      <td>1</td>\n",
       "      <td>1</td>\n",
       "      <td>0</td>\n",
       "    </tr>\n",
       "    <tr>\n",
       "      <th>3</th>\n",
       "      <td>0</td>\n",
       "      <td>1</td>\n",
       "      <td>0</td>\n",
       "      <td>1</td>\n",
       "      <td>1</td>\n",
       "      <td>1</td>\n",
       "      <td>1</td>\n",
       "    </tr>\n",
       "    <tr>\n",
       "      <th>4</th>\n",
       "      <td>1</td>\n",
       "      <td>1</td>\n",
       "      <td>1</td>\n",
       "      <td>0</td>\n",
       "      <td>0</td>\n",
       "      <td>0</td>\n",
       "      <td>0</td>\n",
       "    </tr>\n",
       "    <tr>\n",
       "      <th>5</th>\n",
       "      <td>1</td>\n",
       "      <td>0</td>\n",
       "      <td>1</td>\n",
       "      <td>1</td>\n",
       "      <td>1</td>\n",
       "      <td>1</td>\n",
       "      <td>1</td>\n",
       "    </tr>\n",
       "    <tr>\n",
       "      <th>6</th>\n",
       "      <td>1</td>\n",
       "      <td>1</td>\n",
       "      <td>0</td>\n",
       "      <td>0</td>\n",
       "      <td>0</td>\n",
       "      <td>1</td>\n",
       "      <td>0</td>\n",
       "    </tr>\n",
       "  </tbody>\n",
       "</table>\n",
       "</div>"
      ],
      "text/plain": [
       "   0  1  2  3  4  5  6\n",
       "0  1  1  1  0  1  0  0\n",
       "1  1  0  1  1  0  0  0\n",
       "2  0  0  1  1  1  1  0\n",
       "3  0  1  0  1  1  1  1\n",
       "4  1  1  1  0  0  0  0\n",
       "5  1  0  1  1  1  1  1\n",
       "6  1  1  0  0  0  1  0"
      ]
     },
     "execution_count": 21,
     "metadata": {},
     "output_type": "execute_result"
    }
   ],
   "source": [
    "random_graph"
   ]
  },
  {
   "cell_type": "code",
   "execution_count": 30,
   "metadata": {},
   "outputs": [],
   "source": [
    "def obtain_basis(random_graph):\n",
    "#Let's obtain first, which are the parents from each vertex.\n",
    "\n",
    "    parents = dict()\n",
    "    basis_set = dict()\n",
    "\n",
    "    # Get the parents dictionary\n",
    "\n",
    "    for element in random_graph.columns:\n",
    "        for element2 in random_graph.index:\n",
    "            parents[element] = list()\n",
    "\n",
    "    for element in random_graph.columns:\n",
    "        for element2 in random_graph.index:\n",
    "            if random_graph.loc[element2, element] != 0:\n",
    "                parents.setdefault(element,[]).append(str(element2))\n",
    "\n",
    "    # For each non-adjacent pair, check parents.\n",
    "\n",
    "    for element in random_graph.columns:\n",
    "        for element2 in random_graph.index:\n",
    "            if random_graph.loc[element2, element] == 0 and random_graph.loc[element, element2] == 0:\n",
    "                if element > element2:\n",
    "                    elements = (element, element2)\n",
    "                else:\n",
    "                    elements = (element2, element)\n",
    "\n",
    "                if element != element2:\n",
    "                    basis_set[elements] = set(parents[elements[0]] + parents[elements[1]])   \n",
    "    \n",
    "    return basis_set\n",
    "\n",
    "def print_d_separation(basis_set):\n",
    "    print (\"The d-separation statement for the basis set is the next one:\\n\")\n",
    "    for key in basis_set.keys():\n",
    "            print (key[0],\"||\", key[1],\"|\", (\",\").join(basis_set[key]))\n",
    "    return None\n",
    "                \n",
    "    "
   ]
  },
  {
   "cell_type": "code",
   "execution_count": 31,
   "metadata": {},
   "outputs": [
    {
     "name": "stdout",
     "output_type": "stream",
     "text": [
      "The d-separation statement for the basis set is the next one:\n",
      "\n",
      "3 || 0 | 6,5,0,4,3,1,2\n",
      "5 || 1 | 6,5,0,4,3,2\n",
      "6 || 2 | 5,0,4,3,1,2\n",
      "6 || 4 | 3,5,0,2\n"
     ]
    }
   ],
   "source": [
    "basis_set = obtain_basis(random_graph)\n",
    "print_d_separation(basis_set)"
   ]
  },
  {
   "cell_type": "markdown",
   "metadata": {},
   "source": [
    "#### Problem 2. ​Program a function that given a ​basis set and data for all the variables computes the independences given the data (using Pearson Correlation) and returns True if the independences are observed. The threshold of correlation to consider independent or dependent two variables is a parameter of the function.\n",
    "\n",
    "Give examples with different graphs and artificially generated data for both exercises."
   ]
  },
  {
   "cell_type": "code",
   "execution_count": 47,
   "metadata": {},
   "outputs": [],
   "source": [
    "# First let's generate a function that give us data.\n",
    "\n",
    "def generate_data(obs, num_var):\n",
    "    data = pd.DataFrame(np.random.randint(0,100,size=(obs, num_var)))\n",
    "    return data\n",
    "\n",
    "# And another one that compute us the independe given the data.\n",
    "\n",
    "def check_independence(basis_set, data, threshold):\n",
    "    for key in basis_set.keys():\n",
    "        r = st.pearsonr(data[key[0]], data[key[1]])[0]\n",
    "        tr = (r*(n-2)**1/2) * ((1-r**2)**1/2)\n",
    "        pval = st.t.sf(np.abs(tr), n-1)*2  # two-sided pvalue = Prob(abs(t)>tt)\n",
    "        print (key[0],key[1],pval <= threshold)\n",
    "        \n",
    "# Since I don't understand what the question is asking (Return True is at least one is True? Return True if all are true?\n",
    "# I will print True or False for each pair of the basis set."
   ]
  },
  {
   "cell_type": "code",
   "execution_count": 48,
   "metadata": {},
   "outputs": [
    {
     "name": "stdout",
     "output_type": "stream",
     "text": [
      "3 0 False\n",
      "5 1 True\n",
      "6 2 False\n",
      "6 4 False\n"
     ]
    }
   ],
   "source": [
    "# Now we have to compute the pearson coefficient against each one of the pairs.\n",
    "\n",
    "n=100\n",
    "num_var = len(random_graph.columns)\n",
    "\n",
    "basis_set = obtain_basis(random_graph)\n",
    "data = generate_data(n, num_var)\n",
    "\n",
    "check_independence(basis_set, data, 0.05)\n",
    "\n",
    "\n"
   ]
  }
 ],
 "metadata": {
  "kernelspec": {
   "display_name": "Python 3",
   "language": "python",
   "name": "python3"
  },
  "language_info": {
   "codemirror_mode": {
    "name": "ipython",
    "version": 3
   },
   "file_extension": ".py",
   "mimetype": "text/x-python",
   "name": "python",
   "nbconvert_exporter": "python",
   "pygments_lexer": "ipython3",
   "version": "3.6.8"
  }
 },
 "nbformat": 4,
 "nbformat_minor": 4
}
