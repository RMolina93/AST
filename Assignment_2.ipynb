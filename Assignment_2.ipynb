{
 "cells": [
  {
   "cell_type": "code",
   "execution_count": 45,
   "metadata": {},
   "outputs": [],
   "source": [
    "import os\n",
    "import sys\n",
    "import pandas as pd\n",
    "import matplotlib.pyplot as plt\n",
    "import seaborn as sns\n",
    "import copy #Hope you don't lower my grade for that, I was just having problems with the shallow and deep copies.\n",
    "\n",
    "%matplotlib inline"
   ]
  },
  {
   "cell_type": "markdown",
   "metadata": {},
   "source": [
    "First lets read the data and let's check the linearity of each variable against the outcome of ATP. Is important to check it, because if the data follows a non-linear relation, we cannot estimate the parameters of the model. Although this is take as granted when the model is defined as linear, is important to do a previous check."
   ]
  },
  {
   "cell_type": "code",
   "execution_count": 62,
   "metadata": {},
   "outputs": [
    {
     "data": {
      "text/html": [
       "<div>\n",
       "<style scoped>\n",
       "    .dataframe tbody tr th:only-of-type {\n",
       "        vertical-align: middle;\n",
       "    }\n",
       "\n",
       "    .dataframe tbody tr th {\n",
       "        vertical-align: top;\n",
       "    }\n",
       "\n",
       "    .dataframe thead th {\n",
       "        text-align: right;\n",
       "    }\n",
       "</style>\n",
       "<table border=\"1\" class=\"dataframe\">\n",
       "  <thead>\n",
       "    <tr style=\"text-align: right;\">\n",
       "      <th></th>\n",
       "      <th>Protein</th>\n",
       "      <th>Carbohydrates</th>\n",
       "      <th>Fat</th>\n",
       "      <th>ATP</th>\n",
       "    </tr>\n",
       "  </thead>\n",
       "  <tbody>\n",
       "    <tr>\n",
       "      <th>0</th>\n",
       "      <td>1.95</td>\n",
       "      <td>6.92</td>\n",
       "      <td>0.02</td>\n",
       "      <td>9.44</td>\n",
       "    </tr>\n",
       "    <tr>\n",
       "      <th>1</th>\n",
       "      <td>0.64</td>\n",
       "      <td>2.65</td>\n",
       "      <td>0.15</td>\n",
       "      <td>4.04</td>\n",
       "    </tr>\n",
       "    <tr>\n",
       "      <th>2</th>\n",
       "      <td>1.82</td>\n",
       "      <td>0.98</td>\n",
       "      <td>0.21</td>\n",
       "      <td>3.72</td>\n",
       "    </tr>\n",
       "    <tr>\n",
       "      <th>3</th>\n",
       "      <td>1.80</td>\n",
       "      <td>4.69</td>\n",
       "      <td>0.23</td>\n",
       "      <td>7.54</td>\n",
       "    </tr>\n",
       "    <tr>\n",
       "      <th>4</th>\n",
       "      <td>0.93</td>\n",
       "      <td>4.22</td>\n",
       "      <td>0.02</td>\n",
       "      <td>5.70</td>\n",
       "    </tr>\n",
       "    <tr>\n",
       "      <th>...</th>\n",
       "      <td>...</td>\n",
       "      <td>...</td>\n",
       "      <td>...</td>\n",
       "      <td>...</td>\n",
       "    </tr>\n",
       "    <tr>\n",
       "      <th>94</th>\n",
       "      <td>1.83</td>\n",
       "      <td>5.69</td>\n",
       "      <td>0.15</td>\n",
       "      <td>8.60</td>\n",
       "    </tr>\n",
       "    <tr>\n",
       "      <th>95</th>\n",
       "      <td>1.77</td>\n",
       "      <td>6.33</td>\n",
       "      <td>0.07</td>\n",
       "      <td>8.66</td>\n",
       "    </tr>\n",
       "    <tr>\n",
       "      <th>96</th>\n",
       "      <td>1.15</td>\n",
       "      <td>4.88</td>\n",
       "      <td>0.27</td>\n",
       "      <td>6.80</td>\n",
       "    </tr>\n",
       "    <tr>\n",
       "      <th>97</th>\n",
       "      <td>1.30</td>\n",
       "      <td>3.91</td>\n",
       "      <td>0.03</td>\n",
       "      <td>5.46</td>\n",
       "    </tr>\n",
       "    <tr>\n",
       "      <th>98</th>\n",
       "      <td>0.56</td>\n",
       "      <td>0.90</td>\n",
       "      <td>0.16</td>\n",
       "      <td>2.15</td>\n",
       "    </tr>\n",
       "  </tbody>\n",
       "</table>\n",
       "<p>99 rows × 4 columns</p>\n",
       "</div>"
      ],
      "text/plain": [
       "    Protein  Carbohydrates   Fat   ATP\n",
       "0      1.95           6.92  0.02  9.44\n",
       "1      0.64           2.65  0.15  4.04\n",
       "2      1.82           0.98  0.21  3.72\n",
       "3      1.80           4.69  0.23  7.54\n",
       "4      0.93           4.22  0.02  5.70\n",
       "..      ...            ...   ...   ...\n",
       "94     1.83           5.69  0.15  8.60\n",
       "95     1.77           6.33  0.07  8.66\n",
       "96     1.15           4.88  0.27  6.80\n",
       "97     1.30           3.91  0.03  5.46\n",
       "98     0.56           0.90  0.16  2.15\n",
       "\n",
       "[99 rows x 4 columns]"
      ]
     },
     "execution_count": 62,
     "metadata": {},
     "output_type": "execute_result"
    }
   ],
   "source": [
    "data = pd.read_table('./diet_and_atp.tsv')\n",
    "data_original = copy.deepcopy(data)\n",
    "data = data.drop(columns=\"ATP\")\n",
    "data\n",
    "data_original"
   ]
  },
  {
   "cell_type": "code",
   "execution_count": 43,
   "metadata": {},
   "outputs": [
    {
     "data": {
      "text/plain": [
       "Text(0.5, 0, 'Type of Diet')"
      ]
     },
     "execution_count": 43,
     "metadata": {},
     "output_type": "execute_result"
    },
    {
     "data": {
      "image/png": "[encoded data removed]",
      "text/plain": [
       "<Figure size 432x288 with 1 Axes>"
      ]
     },
     "metadata": {
      "needs_background": "light"
     },
     "output_type": "display_data"
    }
   ],
   "source": [
    "sns.scatterplot(x=data.Protein,y=data.ATP)\n",
    "sns.scatterplot(x=data.Carbohydrates,y=data.ATP)\n",
    "sns.scatterplot(x=data.Fat,y=data.ATP)\n",
    "plt.legend(title='Diet', loc='lower right', labels=['Protein', 'Carbohydrates','Fat'])\n",
    "plt.title(\"Relation between Macromolecules and ATP\")\n",
    "plt.xlabel(\"Type of Diet\")\n"
   ]
  },
  {
   "cell_type": "markdown",
   "metadata": {},
   "source": [
    "With that plot we can see that each variable follows with more or less correlation a linear relation, but the important thing is that none of them follows a non-linear relation. Therefore we can proceed to estimate the parameters for this multiple linear regression model with Least Squares method.\n",
    "\n",
    "Let's think how to do that. According to the model we can describe the error as\n",
    "\n",
    "error = y(real)-y(predicted) = y(real)-(a · Proteins +b · Carbohydrates + C · Fats)\n",
    "\n",
    "What are we going to apply is that the vector of coefficients that minimize the error between the model and the observed data are calculated in the following way:\n",
    "\n",
    "Let's name first our things.\n",
    "\n",
    "Coefficients = (Xt · X) ^-1 · Xt * ATP\n",
    "\n",
    "So let's calculate that\n"
   ]
  },
  {
   "cell_type": "code",
   "execution_count": 55,
   "metadata": {},
   "outputs": [],
   "source": [
    "# First we store the Y variable data, but for that let's make a deep copy of the original data\n",
    "ATP = list(data_original.ATP)\n",
    "Protein = list(data_original.Protein)"
   ]
  },
  {
   "cell_type": "code",
   "execution_count": 59,
   "metadata": {},
   "outputs": [
    {
     "data": {
      "text/html": [
       "<div>\n",
       "<style scoped>\n",
       "    .dataframe tbody tr th:only-of-type {\n",
       "        vertical-align: middle;\n",
       "    }\n",
       "\n",
       "    .dataframe tbody tr th {\n",
       "        vertical-align: top;\n",
       "    }\n",
       "\n",
       "    .dataframe thead th {\n",
       "        text-align: right;\n",
       "    }\n",
       "</style>\n",
       "<table border=\"1\" class=\"dataframe\">\n",
       "  <thead>\n",
       "    <tr style=\"text-align: right;\">\n",
       "      <th></th>\n",
       "      <th>0</th>\n",
       "      <th>1</th>\n",
       "      <th>2</th>\n",
       "      <th>3</th>\n",
       "      <th>4</th>\n",
       "      <th>5</th>\n",
       "      <th>6</th>\n",
       "      <th>7</th>\n",
       "      <th>8</th>\n",
       "      <th>9</th>\n",
       "      <th>...</th>\n",
       "      <th>89</th>\n",
       "      <th>90</th>\n",
       "      <th>91</th>\n",
       "      <th>92</th>\n",
       "      <th>93</th>\n",
       "      <th>94</th>\n",
       "      <th>95</th>\n",
       "      <th>96</th>\n",
       "      <th>97</th>\n",
       "      <th>98</th>\n",
       "    </tr>\n",
       "  </thead>\n",
       "  <tbody>\n",
       "    <tr>\n",
       "      <th>Protein</th>\n",
       "      <td>1.95</td>\n",
       "      <td>0.64</td>\n",
       "      <td>1.82</td>\n",
       "      <td>1.80</td>\n",
       "      <td>0.93</td>\n",
       "      <td>1.60</td>\n",
       "      <td>1.17</td>\n",
       "      <td>0.30</td>\n",
       "      <td>1.72</td>\n",
       "      <td>0.23</td>\n",
       "      <td>...</td>\n",
       "      <td>0.67</td>\n",
       "      <td>1.31</td>\n",
       "      <td>1.00</td>\n",
       "      <td>1.92</td>\n",
       "      <td>0.94</td>\n",
       "      <td>1.83</td>\n",
       "      <td>1.77</td>\n",
       "      <td>1.15</td>\n",
       "      <td>1.30</td>\n",
       "      <td>0.56</td>\n",
       "    </tr>\n",
       "    <tr>\n",
       "      <th>Carbohydrates</th>\n",
       "      <td>6.92</td>\n",
       "      <td>2.65</td>\n",
       "      <td>0.98</td>\n",
       "      <td>4.69</td>\n",
       "      <td>4.22</td>\n",
       "      <td>2.71</td>\n",
       "      <td>5.88</td>\n",
       "      <td>5.80</td>\n",
       "      <td>2.34</td>\n",
       "      <td>3.66</td>\n",
       "      <td>...</td>\n",
       "      <td>4.76</td>\n",
       "      <td>2.33</td>\n",
       "      <td>1.03</td>\n",
       "      <td>1.29</td>\n",
       "      <td>4.96</td>\n",
       "      <td>5.69</td>\n",
       "      <td>6.33</td>\n",
       "      <td>4.88</td>\n",
       "      <td>3.91</td>\n",
       "      <td>0.90</td>\n",
       "    </tr>\n",
       "    <tr>\n",
       "      <th>Fat</th>\n",
       "      <td>0.02</td>\n",
       "      <td>0.15</td>\n",
       "      <td>0.21</td>\n",
       "      <td>0.23</td>\n",
       "      <td>0.02</td>\n",
       "      <td>0.02</td>\n",
       "      <td>0.32</td>\n",
       "      <td>0.13</td>\n",
       "      <td>0.31</td>\n",
       "      <td>0.31</td>\n",
       "      <td>...</td>\n",
       "      <td>0.02</td>\n",
       "      <td>0.35</td>\n",
       "      <td>0.31</td>\n",
       "      <td>0.01</td>\n",
       "      <td>0.16</td>\n",
       "      <td>0.15</td>\n",
       "      <td>0.07</td>\n",
       "      <td>0.27</td>\n",
       "      <td>0.03</td>\n",
       "      <td>0.16</td>\n",
       "    </tr>\n",
       "  </tbody>\n",
       "</table>\n",
       "<p>3 rows × 99 columns</p>\n",
       "</div>"
      ],
      "text/plain": [
       "                 0     1     2     3     4     5     6     7     8     9   \\\n",
       "Protein        1.95  0.64  1.82  1.80  0.93  1.60  1.17  0.30  1.72  0.23   \n",
       "Carbohydrates  6.92  2.65  0.98  4.69  4.22  2.71  5.88  5.80  2.34  3.66   \n",
       "Fat            0.02  0.15  0.21  0.23  0.02  0.02  0.32  0.13  0.31  0.31   \n",
       "\n",
       "               ...    89    90    91    92    93    94    95    96    97    98  \n",
       "Protein        ...  0.67  1.31  1.00  1.92  0.94  1.83  1.77  1.15  1.30  0.56  \n",
       "Carbohydrates  ...  4.76  2.33  1.03  1.29  4.96  5.69  6.33  4.88  3.91  0.90  \n",
       "Fat            ...  0.02  0.35  0.31  0.01  0.16  0.15  0.07  0.27  0.03  0.16  \n",
       "\n",
       "[3 rows x 99 columns]"
      ]
     },
     "execution_count": 59,
     "metadata": {},
     "output_type": "execute_result"
    }
   ],
   "source": [
    "# Let's compute the transpose matrix.\n",
    "data_transposed = data.T\n",
    "data_transposed"
   ]
  },
  {
   "cell_type": "markdown",
   "metadata": {},
   "source": [
    "Now we need to generate the inverse of the multiplication of the transpose matrix against the datamatrix"
   ]
  },
  {
   "cell_type": "code",
   "execution_count": 70,
   "metadata": {},
   "outputs": [],
   "source": [
    "intermediate = (data_transposed.dot(data))"
   ]
  },
  {
   "cell_type": "markdown",
   "metadata": {},
   "source": [
    "Data has dimension 3 x 98 and data_transposed has 98 x 3. Therefore the dot product has dimension 3x3, meaning that the multiplication is correct. Now we need to generate the inverse matrix for this one.\n",
    "\n",
    "For obtaining the inverse of a matrix, the determinant has to be different than 0, due to:\n",
    "\n",
    "If det(A) != 0\n",
    "   A-1 = adj(A)/det(A)\n",
    "Else:\n",
    "    \"Matrix does not have inverse\"\n",
    "\n",
    "Do let's check the determinant."
   ]
  },
  {
   "cell_type": "code",
   "execution_count": 91,
   "metadata": {},
   "outputs": [
    {
     "data": {
      "text/html": [
       "<div>\n",
       "<style scoped>\n",
       "    .dataframe tbody tr th:only-of-type {\n",
       "        vertical-align: middle;\n",
       "    }\n",
       "\n",
       "    .dataframe tbody tr th {\n",
       "        vertical-align: top;\n",
       "    }\n",
       "\n",
       "    .dataframe thead th {\n",
       "        text-align: right;\n",
       "    }\n",
       "</style>\n",
       "<table border=\"1\" class=\"dataframe\">\n",
       "  <thead>\n",
       "    <tr style=\"text-align: right;\">\n",
       "      <th></th>\n",
       "      <th>Protein</th>\n",
       "      <th>Carbohydrates</th>\n",
       "      <th>Fat</th>\n",
       "    </tr>\n",
       "  </thead>\n",
       "  <tbody>\n",
       "    <tr>\n",
       "      <th>0</th>\n",
       "      <td>0.020660</td>\n",
       "      <td>-0.003353</td>\n",
       "      <td>-0.036916</td>\n",
       "    </tr>\n",
       "    <tr>\n",
       "      <th>1</th>\n",
       "      <td>-0.003353</td>\n",
       "      <td>0.001626</td>\n",
       "      <td>-0.010494</td>\n",
       "    </tr>\n",
       "    <tr>\n",
       "      <th>2</th>\n",
       "      <td>-0.036916</td>\n",
       "      <td>-0.010494</td>\n",
       "      <td>0.581092</td>\n",
       "    </tr>\n",
       "  </tbody>\n",
       "</table>\n",
       "</div>"
      ],
      "text/plain": [
       "    Protein  Carbohydrates       Fat\n",
       "0  0.020660      -0.003353 -0.036916\n",
       "1 -0.003353       0.001626 -0.010494\n",
       "2 -0.036916      -0.010494  0.581092"
      ]
     },
     "execution_count": 91,
     "metadata": {},
     "output_type": "execute_result"
    }
   ],
   "source": [
    "#Let's create the inversion of the 3x3 matrix. For this we will generate a function called inversion\n",
    "\n",
    "def inversion(m):    \n",
    "    m1, m2, m3, m4, m5, m6, m7, m8, m9 = m.flatten()\n",
    "    determinant = m1*m5*m9 + m4*m8*m3 + m7*m2*m6 - m1*m6*m8 - m3*m5*m7 - m2*m4*m9  \n",
    "    d = {\"Protein\":[(m5*m9-m6*m8)/determinant, (m3*m8-m2*m9)/determinant, (m2*m6-m3*m5)/determinant],\n",
    "           \"Carbohydrates\":[(m6*m7-m4*m9)/determinant, (m1*m9-m3*m7)/determinant, (m3*m4-m1*m6)/determinant],\n",
    "           \"Fat\":[(m4*m8-m5*m7)/determinant, (m2*m7-m1*m8)/determinant, (m1*m5-m2*m4)/determinant]}\n",
    "    return pd.DataFrame(data=d)\n",
    "\n",
    "inverted = inversion(intermediate.values)\n",
    "\n",
    "inverted"
   ]
  },
  {
   "cell_type": "markdown",
   "metadata": {},
   "source": [
    "Finally we just need to multiply that for the transposed and for the dependent variable vector."
   ]
  },
  {
   "cell_type": "code",
   "execution_count": 96,
   "metadata": {},
   "outputs": [
    {
     "name": "stdout",
     "output_type": "stream",
     "text": [
      "The value for A is: 1.093\n",
      "The value for B is: 1.0505\n",
      "The value for C is: 1.9063\n"
     ]
    }
   ],
   "source": [
    "a,b,c = inverted.dot(data.T).dot(ATP)\n",
    "print (\"The value for A is:\",round(a,4))\n",
    "print (\"The value for B is:\",round(b,4))\n",
    "print (\"The value for C is:\",round(c,4))"
   ]
  },
  {
   "cell_type": "markdown",
   "metadata": {},
   "source": [
    "And therefore the model is the next one:\n",
    "### ATP = 1.093 · Proteins + 1.050 · Carbohydrates + 1.906 · Fats + error. \n",
    "\n",
    "Let's compute now how much error has this model. For this we need to compute the quantity of ATP that is generated in each observation according the model (y^)"
   ]
  },
  {
   "cell_type": "code",
   "execution_count": 105,
   "metadata": {},
   "outputs": [
    {
     "name": "stdout",
     "output_type": "stream",
     "text": [
      "The model with the estimated coefficients has an RMSE of: 0.0947829944776766\n"
     ]
    }
   ],
   "source": [
    "predicted_ATP = list()\n",
    "error = list()\n",
    "\n",
    "for _i in range(0,len(data.Protein)):\n",
    "    predicted_ATP.append(a * list(data.Protein)[_i] + b * list(data.Carbohydrates)[_i] + c * list(data.Fat)[_i])\n",
    "    \n",
    "for _x in range(0,len(ATP)):\n",
    "    error.append(ATP[_x] - predicted_ATP[_x])\n",
    "    \n",
    "#Let's compute the RMSE of the model\n",
    "\n",
    "RMSE = sum(i**2 for i in error)/len(error)\n",
    "print (\"The model with the estimated coefficients has an RMSE of:\", RMSE)"
   ]
  },
  {
   "cell_type": "code",
   "execution_count": null,
   "metadata": {},
   "outputs": [],
   "source": []
  }
 ],
 "metadata": {
  "kernelspec": {
   "display_name": "Python 3",
   "language": "python",
   "name": "python3"
  },
  "language_info": {
   "codemirror_mode": {
    "name": "ipython",
    "version": 3
   },
   "file_extension": ".py",
   "mimetype": "text/x-python",
   "name": "python",
   "nbconvert_exporter": "python",
   "pygments_lexer": "ipython3",
   "version": "3.7.5"
  }
 },
 "nbformat": 4,
 "nbformat_minor": 4
}
