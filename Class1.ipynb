{
 "cells": [
  {
   "cell_type": "markdown",
   "metadata": {},
   "source": [
    "# Session 1 notes\n",
    "\n",
    "## Declaring variables\n",
    "\n",
    "Variables are typed but not explicitly, when we store a value it change its type to the type of the value that I'm putting. This is comfortable but also dangerous!"
   ]
  },
  {
   "cell_type": "code",
   "execution_count": null,
   "metadata": {},
   "outputs": [],
   "source": [
    "#Declare\n",
    "variableName = value\n",
    "#Fulfill\n",
    "input(variableName)\n",
    "#Output\n",
    "print(variableName)\n"
   ]
  },
  {
   "cell_type": "markdown",
   "metadata": {},
   "source": [
    "## Containers\n",
    "### Set"
   ]
  },
  {
   "cell_type": "code",
   "execution_count": null,
   "metadata": {},
   "outputs": [],
   "source": [
    "#Declare\n",
    "mySet = set()\n",
    "myOtherSet = {3,4}\n",
    "#Add\n",
    "mySet.add(3)\n",
    "#Operations\n",
    "print(mySet & myOtherSet)\n",
    "print(mySet | myOtherSet)\n",
    "print(mySet - myOtherSet)\n",
    "print(3 in mySet)\n"
   ]
  },
  {
   "cell_type": "markdown",
   "metadata": {},
   "source": [
    "### List"
   ]
  },
  {
   "cell_type": "code",
   "execution_count": 176,
   "metadata": {},
   "outputs": [],
   "source": [
    "#Declare\n",
    "myList = list()\n",
    "myOtherList = [3,4]\n",
    "#Append\n",
    "myList.append(3)\n",
    "#Operations\n",
    "print(myList + myOtherList)\n",
    "print(3 in myList)"
   ]
  },
  {
   "cell_type": "markdown",
   "metadata": {},
   "source": [
    "### Dict"
   ]
  },
  {
   "cell_type": "code",
   "execution_count": 177,
   "metadata": {},
   "outputs": [],
   "source": [
    "#Declare\n",
    "myDict = dict()\n",
    "myOtherDict = {3:\"three\",4:\"four\"}\n",
    "#Add\n",
    "myDict[3] =\"number three\"\n",
    "#Operations\n",
    "print(myDict.keys())\n",
    "print(3 in myDict.keys())\n",
    "print(myOtherDict[4])"
   ]
  },
  {
   "cell_type": "markdown",
   "metadata": {},
   "source": [
    "## Control structures\n",
    "\n",
    "### if"
   ]
  },
  {
   "cell_type": "code",
   "execution_count": 177,
   "metadata": {},
   "outputs": [],
   "source": [
    "a = 0\n",
    "input(a)\n",
    "if a < 10:\n",
    "    print(\"a is less than 10\")\n",
    "elif a == 10:\n",
    "    print(\"a is 10\")\n",
    "else: \n",
    "    print(\"a is more than 10\")\n"
   ]
  },
  {
   "cell_type": "markdown",
   "metadata": {},
   "source": [
    "### for"
   ]
  },
  {
   "cell_type": "code",
   "execution_count": 179,
   "metadata": {},
   "outputs": [],
   "source": [
    "myList = [3,4,\"Leandro\",3.4]\n",
    "for element in range(len(myList)):\n",
    "    print(myList[element])\n",
    "    print(type(myList[element]))"
   ]
  },
  {
   "cell_type": "markdown",
   "metadata": {},
   "source": [
    "## Input/Output of files"
   ]
  },
  {
   "cell_type": "code",
   "execution_count": 181,
   "metadata": {},
   "outputs": [
    {
     "name": "stdout",
     "output_type": "stream",
     "text": [
      "10\n",
      "\n",
      "14\n",
      "\n",
      "15\n",
      "\n",
      "20\n",
      "\n"
     ]
    }
   ],
   "source": [
    "with open(\"data.txt\", 'r') as infile:\n",
    "    for line in infile:\n",
    "        print(line)\n"
   ]
  },
  {
   "cell_type": "markdown",
   "metadata": {},
   "source": [
    "## Fairness of a coin\n",
    "\n",
    "Let's go with a very simple question: is my coin fair? By now we (pretend to) just know probabilities.\n",
    "\n",
    "### Frequentist approach\n",
    "\n",
    "In this approach, as we discussed, will focus on the data. Then, the only thing we can do is to flip a coin. I hope you remember that a binomial distribution reproduces this experiment (if not, Wikipedia can help you). Our experiments will flip the coin 10 times each."
   ]
  },
  {
   "cell_type": "code",
   "execution_count": 75,
   "metadata": {},
   "outputs": [
    {
     "name": "stdout",
     "output_type": "stream",
     "text": [
      "1\n"
     ]
    }
   ],
   "source": [
    "# Numpy is a standard library for numerical operations on python\n",
    "import numpy as np\n",
    "\n",
    "n = 10 # number of trials\n",
    "p = .5 #probability of each trial\n",
    "\n",
    "# The variable s be an integer, result of a function that draw samples from a binomial distribution (gently included in numpy).\n",
    "s = np.random.binomial(n, p) \n",
    "print(s)"
   ]
  },
  {
   "cell_type": "code",
   "execution_count": 76,
   "metadata": {},
   "outputs": [
    {
     "name": "stdout",
     "output_type": "stream",
     "text": [
      "6\n",
      "4\n",
      "4\n",
      "7\n",
      "4\n",
      "2\n",
      "4\n",
      "3\n",
      "6\n",
      "4\n"
     ]
    }
   ],
   "source": [
    "# We can ask ten experiments and print how much tails we obtained on each\n",
    "for i in range(10):\n",
    "    s = np.random.binomial(n, p)\n",
    "    print(s)\n"
   ]
  },
  {
   "cell_type": "code",
   "execution_count": 77,
   "metadata": {},
   "outputs": [
    {
     "name": "stdout",
     "output_type": "stream",
     "text": [
      "[5 4 3 ... 3 8 4]\n"
     ]
    }
   ],
   "source": [
    "# We can pass a third parameter r to the function, that returns a list with the result of repeating the experiment r times\n",
    "r = 10000\n",
    "s = np.random.binomial(n, p, r) \n",
    "print(s)"
   ]
  },
  {
   "cell_type": "markdown",
   "metadata": {},
   "source": [
    "### A minimal taste on plotting\n",
    "\n",
    "One of the simplest libraries to generate plots (simpler than the python native plot library) is seaborn. The \"%\" character is called \"magic\" and allows to comunicate with the kernel of the python notebooks. With %matplotlib inline we say that we want the plots in the very notebook and not in a separated window, which is the python standard way to show plots."
   ]
  },
  {
   "cell_type": "code",
   "execution_count": 78,
   "metadata": {},
   "outputs": [
    {
     "data": {
      "text/plain": [
       "<matplotlib.axes._subplots.AxesSubplot at 0x7f287f933198>"
      ]
     },
     "execution_count": 78,
     "metadata": {},
     "output_type": "execute_result"
    },
    {
     "data": {
      "image/png": "[encoded data removed]",
      "text/plain": [
       "<Figure size 432x288 with 1 Axes>"
      ]
     },
     "metadata": {},
     "output_type": "display_data"
    }
   ],
   "source": [
    "%matplotlib inline \n",
    "import seaborn as sns\n",
    "\n",
    "\n",
    "# distplot plots the histogram of an array with data, in this case, the virtual observations\n",
    "sns.distplot(s, bins=10, kde=False)"
   ]
  },
  {
   "cell_type": "markdown",
   "metadata": {},
   "source": [
    "## Probabilities of the events of the sample space\n",
    "\n",
    "We (pretend to) know just about probabilities. The first thing that we can compute is, for our experiments, if the coin is fair, the probability of each possible event.\n",
    "\n",
    "To practice how to program in python we will do it really from the scratch. If we are flipping the coin 10 times, all the possible outcomes are the permutations of two possible values (heads and tails) in a list of ten elements, allowing repetitions is just $2^{10}$. \n",
    "\n",
    "\n"
   ]
  },
  {
   "cell_type": "code",
   "execution_count": 2,
   "metadata": {},
   "outputs": [
    {
     "name": "stdout",
     "output_type": "stream",
     "text": [
      "All possible outcomes length: 1024\n"
     ]
    }
   ],
   "source": [
    "allPossibleOutComes = [[]] # I have the initial state, an experiment with no flips yet\n",
    "\n",
    "# Each time I flip the coin\n",
    "for flip in range(10):\n",
    "    # To all the existing already computed outputs\n",
    "    allPossibleOutComesCopy = allPossibleOutComes.copy()\n",
    "    allPossibleOutComes = []\n",
    "    for intermediateOutcome in allPossibleOutComesCopy:\n",
    "        for outcome in [\"H\",\"T\"]:\n",
    "            allPossibleOutComes.append(intermediateOutcome + [outcome])\n",
    "            \n",
    "print(\"All possible outcomes length:\", len(allPossibleOutComes))\n",
    "\n",
    "        "
   ]
  },
  {
   "cell_type": "markdown",
   "metadata": {},
   "source": [
    "### A minimal taste on functions and comprehension lists\n",
    "\n",
    "A function, like in mathematics, takes some inputs and return some output.\n",
    "List by comprehension provide a concise way to create lists. It consists of brackets containing an expression followed by a for clause, then\n",
    "zero or more for or if clauses. The expressions can be anything, meaning you can\n",
    "put in all kinds of objects in lists."
   ]
  },
  {
   "cell_type": "code",
   "execution_count": 13,
   "metadata": {},
   "outputs": [
    {
     "name": "stdout",
     "output_type": "stream",
     "text": [
      "Number of outcomes with 5 heads 252\n"
     ]
    }
   ],
   "source": [
    "# The functions are defined by the word def\n",
    "def numberOfHeads(event):\n",
    "    headsCount=0\n",
    "    for coinResult in event:\n",
    "        if coinResult == \"H\":\n",
    "            headsCount += 1\n",
    "    return headsCount\n",
    "\n",
    "# The comprehension lists are constructed with for statements inside brackets\n",
    "outcomesWithFiveHeads = [outcome for outcome in allPossibleOutComes if numberOfHeads(outcome) == 5]\n",
    "\n",
    "print(\"Number of outcomes with 5 heads\", len(outcomesWithFiveHeads) )\n"
   ]
  },
  {
   "cell_type": "markdown",
   "metadata": {},
   "source": [
    "### A minimal taste on lambda functions\n",
    "\n",
    "One (good) thing on python is that a variable, apart of be able to store a value, can store a function as well. Lambda functions are inline defined functions that return the evaluation of the expression that is written in them"
   ]
  },
  {
   "cell_type": "code",
   "execution_count": 12,
   "metadata": {},
   "outputs": [
    {
     "name": "stdout",
     "output_type": "stream",
     "text": [
      "Number of outcomes with 0 heads 1\n",
      "Number of outcomes with 1 heads 10\n",
      "Number of outcomes with 2 heads 45\n",
      "Number of outcomes with 3 heads 120\n",
      "Number of outcomes with 4 heads 210\n",
      "Number of outcomes with 5 heads 252\n",
      "Number of outcomes with 6 heads 210\n",
      "Number of outcomes with 7 heads 120\n",
      "Number of outcomes with 8 heads 45\n",
      "Number of outcomes with 9 heads 10\n",
      "Number of outcomes with 10 heads 1\n"
     ]
    }
   ],
   "source": [
    "outcomesWithNHeads = lambda n : [outcome for outcome in allPossibleOutComes if numberOfHeads(outcome) == n]\n",
    "\n",
    "for i in range(11):\n",
    "    print(\"Number of outcomes with\", i, \"heads\", len(outcomesWithNHeads(i)))"
   ]
  },
  {
   "cell_type": "markdown",
   "metadata": {},
   "source": [
    "## Estimators\n",
    "\n",
    "Ok, but i have my coin with me and I flip it 100 times and I get 60 heads. What can I say of my coin?\n",
    "\n",
    "As we said before, frequentists look for $Pr(data \\mid hypotesis)$ rely only on the data. Then, can we compute $Pr(heads=60 \\mid Pr(heads)=0.5)$."
   ]
  },
  {
   "cell_type": "code",
   "execution_count": null,
   "metadata": {},
   "outputs": [],
   "source": []
  },
  {
   "cell_type": "markdown",
   "metadata": {},
   "source": [
    "We are getting the probability for the null hypothesis $Pr(heads)=0.5$ to obtain exactly 60 heads. Is this probability telling us what we want to know? \n",
    "\n",
    "We need something to measure how far my observation is from what I expect to see if the null hypotesis is correct: a test statistic. Low value of the test statistic, more likely not to reject the null hypotesis, high value of the test statistic, more likely to reject the null hypotesis.\n",
    "\n",
    "Finally, we need a formal way to determine if the test statistic is “low” or “high” and actually make a decision.\n",
    "\n",
    "#### One sample statistical test\n",
    "\n",
    "$$ T = \\frac{Z}{s} = \\frac{\\overline{x} - \\mu_0}{ \\sqrt{\\sigma^2 / n}} $$\n",
    "\n",
    "$\\overline{X}$ is the average of the observations\n",
    "\n",
    "$\\sigma$ is the (estimated) standard deviation. Remember: $$\\sigma = \\sqrt{ \\frac { \\sum_{i=1}^{n} (x-\\overline{x})^2 } {n} }$$\n",
    "\n",
    "$n$ is the number of observations\n",
    "\n",
    "$\\mu_0$ is the given value\n",
    "\n",
    "\n"
   ]
  },
  {
   "cell_type": "code",
   "execution_count": 165,
   "metadata": {},
   "outputs": [],
   "source": [
    "from math import sqrt\n",
    "\n",
    "heads = 40 # We will assign heads as obtaining a 0\n",
    "tails = 60 # And tails will be 1\n",
    "flips = heads+tails\n",
    "mu_0 = (heads*0+tails*1) / flips\n",
    "null_h = 0.5 # Aka, the coin is fair\n",
    "\n",
    "sqared_standard_deviation = ( tails * ( 1- mu_0 )**2 + heads * ( 0- mu_0 )**2 ) / flips\n",
    "T = ( mu_0 - null_h) / sqrt( sqared_standard_deviation / flips)"
   ]
  },
  {
   "cell_type": "code",
   "execution_count": 167,
   "metadata": {},
   "outputs": [
    {
     "name": "stdout",
     "output_type": "stream",
     "text": [
      "sqared sigma 0.24\n",
      "T 2.0412414523193148\n"
     ]
    }
   ],
   "source": [
    "print (\"sqared sigma\", sqared_standard_deviation)\n",
    "print (\"T\",T)"
   ]
  },
  {
   "cell_type": "markdown",
   "metadata": {},
   "source": [
    "### p-value\n",
    "\n",
    "As we said, he p-value is the probability of observing a sample mean that is as or more extreme than the observed. We can construct a function that computes the normal distribution, or just use it from a library. "
   ]
  },
  {
   "cell_type": "code",
   "execution_count": 185,
   "metadata": {},
   "outputs": [
    {
     "name": "stdout",
     "output_type": "stream",
     "text": [
      "The p-value of our sample is 0.04967408718089753\n"
     ]
    }
   ],
   "source": [
    "import scipy.stats\n",
    "\n",
    "n = scipy.stats.norm()\n",
    "\n",
    "print (\"The p-value of our sample is\", n.pdf(x=T))\n"
   ]
  },
  {
   "cell_type": "code",
   "execution_count": null,
   "metadata": {},
   "outputs": [],
   "source": [
    "\n"
   ]
  },
  {
   "cell_type": "markdown",
   "metadata": {},
   "source": [
    "### Doing the same but using python scipy\n",
    "\n",
    "We populate a list with our results and just run a t-test for 1 sample. We will continue with this next week (specially coming back to what p-value is and what is not)"
   ]
  },
  {
   "cell_type": "code",
   "execution_count": 184,
   "metadata": {},
   "outputs": [
    {
     "name": "stdout",
     "output_type": "stream",
     "text": [
      "Ttest_1sampResult(statistic=2.0310096011589893, pvalue=0.044934725212630505)\n"
     ]
    }
   ],
   "source": [
    "# All \"basic\" statistic computations we can found them in scipy. \n",
    "import scipy.stats\n",
    "\n",
    "# Let say that we obtain 40 tails and 60 heads.\n",
    "a = [0] * 40\n",
    "a += [1] * 60\n",
    "\n",
    "# Then is as easy as calling a function that compute the tests and print what it returns.\n",
    "print (scipy.stats.ttest_1samp(a, 0.5))"
   ]
  },
  {
   "cell_type": "code",
   "execution_count": null,
   "metadata": {},
   "outputs": [],
   "source": []
  },
  {
   "cell_type": "code",
   "execution_count": null,
   "metadata": {},
   "outputs": [],
   "source": []
  },
  {
   "cell_type": "code",
   "execution_count": null,
   "metadata": {},
   "outputs": [],
   "source": []
  },
  {
   "cell_type": "code",
   "execution_count": null,
   "metadata": {},
   "outputs": [],
   "source": []
  }
 ],
 "metadata": {
  "kernelspec": {
   "display_name": "Python 3",
   "language": "python",
   "name": "python3"
  },
  "language_info": {
   "codemirror_mode": {
    "name": "ipython",
    "version": 3
   },
   "file_extension": ".py",
   "mimetype": "text/x-python",
   "name": "python",
   "nbconvert_exporter": "python",
   "pygments_lexer": "ipython3",
   "version": "3.5.2"
  }
 },
 "nbformat": 4,
 "nbformat_minor": 2
}
